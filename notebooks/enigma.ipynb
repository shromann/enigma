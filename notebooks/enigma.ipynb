{
 "cells": [
  {
   "cell_type": "markdown",
   "id": "241fc1a4",
   "metadata": {},
   "source": [
    "# Task Description"
   ]
  },
  {
   "cell_type": "markdown",
   "id": "3f2e720c",
   "metadata": {},
   "source": [
    "|Name                            |Type                      |Classes                                                                   |Description                                                                    |\n",
    "|--------------------------------|--------------------------|--------------------------------------------------------------------------|-------------------------------------------------------------------------------|\n",
    "|pericardial-effusion            |binary_classification     |['mild_mod_severe']                                          |Pericardial effusion                                                           |\n",
    "|EF                              |regression                |[]                                                                        |Units: %. Left ventricular (LV) ejection fraction                              |\n",
    "|GLS                             |regression                |[]                                                                        |Units: %. Global longitudinal strain. Actual value is -1 times the model output|\n",
    "|LVEDV                           |regression                |[]                                                                        |Units: cm^3. LV end-diastolic volume                                           |\n",
    "|LVESV                           |regression                |[]                                                                        |Units: cm^3. LV end-systolic volume                                            |\n",
    "|LVSV                            |regression                |[]                                                                        |Units: cm^3. LV stroke volume                                                  |\n",
    "|LVSize                          |multi-class_classification|['Mildly Increased' 'Moderately&#124;Severely Increased' 'Normal']             |LV size                                                                        |\n",
    "|LVWallThickness-increased-any   |binary_classification     |['Increased']                                                    |Any level of LV hypertrophy (increased wall thickness)                         |\n",
    "|LVWallThickness-increased-modsev|binary_classification     |['Moderately&#124;severely increased']            |Moderate or greater LV hypertrophy (increased wall thickness)                  |\n",
    "|LVSystolicFunction              |multi-class_classification|['Mildly Decreased' 'Moderately&#124;Severely Decreased' 'Normal&#124;Hyperdynamic']|LV systolic function                                                           |\n",
    "|LVWallMotionAbnormalities       |binary_classification     |['None' 'Present']                                                        |LV wall motion abnormalities.                                                  |\n",
    "|IVSd                            |regression                |[]                                                                        |Units: cm. LV intraventricular septum thickness at diastole                    |\n",
    "|LVPWd                           |regression                |[]                                                                        |Units: cm. LV posterior wall thickness at diastole                             |\n",
    "|LVIDs                           |regression                |[]                                                                        |Units: cm. LV internal diameter at systole                                     |\n",
    "|LVIDd                           |regression                |[]                                                                        |Units: cm. LV internal diameter at diastole                                    |\n",
    "|LVOTDiam                        |regression                |[]                                                                        |Units: cm. LV outflow tract diameter                                           |\n",
    "|LVDiastolicFunction             |multi-class_classification|['Mild&#124;Indeterminate' 'Moderate&#124;Severe' 'Normal']                         |LV diastolic function                                                          |\n",
    "|E&#124;EAvg                          |regression                |[]                                                                        |Units: N/A. E/e' ratio                                                         |\n",
    "|RVSP                            |regression                |[]                                                                        |Units: mmHg. Right ventricular (RV) systolic pressure                          |\n",
    "|RVSize                          |multi-class_classification|['Mildly Increased' 'Moderately&#124;Severely Increased' 'Normal']             |RV size                                                                        |\n",
    "|RVSystolicFunction              |binary_classification     |['Decreased']                                                    |RV systolic function                                                           |\n",
    "|RVIDd                           |regression                |[]                                                                        |Units: cm. RV internal diameter at diastole                                    |\n",
    "|TAPSE                           |regression                |[]                                                                        |Units: cm. Tricuspid annular plane systolic excursion                          |\n",
    "|RVSVel                          |regression                |[]                                                                        |Units: cm/s. RV systolic excursion velocity (RV S')                            |\n",
    "|LASize                          |multi-class_classification|['Mildly Dilated' 'Moderately&#124;Severely Dilated' 'Normal']                 |Left atrial (LA) size                                                          |\n",
    "|LAIDs2D                         |regression                |[]                                                                        |Units: cm. LA internal diameter at systole                                     |\n",
    "|LAVol                           |regression                |[]                                                                        |Units: cm^3. LA volume                                                         |\n",
    "|RASize                          |binary_classification     |['Dilated']                                                      |Right atrial (RA) size                                                         |\n",
    "|RADimensionM-L(cm)              |regression                |[]                                                                        |Units: cm. RA major dimension                                                  |\n",
    "|AVStructure                     |binary_classification     |['Bicuspid']                                                     |Bicuspid aortic valve                                                          |\n",
    "|AVStenosis                      |multi-class_classification|['Mild&#124;Moderate' 'None' 'Severe']                                         |Aortic valve stenosis                                                          |\n",
    "|AVPkVel(m&#124;s)                    |regression                |[]                                                                        |Units: m/s. Aortic valve peak velocity                                         |\n",
    "|AVRegurg                        |multi-class_classification|['Mild' 'Moderate&#124;Severe' 'None&#124;Trace']                                   |Aortic valve regurgitation                                                     |\n",
    "|LVOT20mmHg                      |binary_classification     |['Present']                                                             |Elevated LV outflow tract pressure                                             |\n",
    "|MVStenosis                      |binary_classification     |['Mild&#124;Moderate&#124;Severe']                                           |Mitral valve stenosis                                                          |\n",
    "|MVRegurgitation                 |multi-class_classification|['Mild' 'Moderate&#124;Severe' 'None&#124;Trace']                                   |Mitral valve regurgitation                                                     |\n",
    "|TVRegurgitation                 |multi-class_classification|['Mild' 'Moderate&#124;Severe' 'None&#124;Trace']                                   |Tricuspid valve regurgitation                                                  |\n",
    "|TVPkGrad                        |regression                |[]                                                                        |Units: mmHg. Tricuspid valve peak gradient                                     |\n",
    "|RAP-8-or-higher                 |binary_classification     |['Present']                                                             |Elevated RA pressure                                                           |\n",
    "|AORoot                          |regression                |[]                                                                        |Units: cm. Transverse aortic root diameter                                     |"
   ]
  },
  {
   "cell_type": "markdown",
   "id": "c47e79b6",
   "metadata": {},
   "source": [
    "# Code"
   ]
  },
  {
   "cell_type": "code",
   "execution_count": 6,
   "id": "6f2b3428",
   "metadata": {},
   "outputs": [
    {
     "name": "stdout",
     "output_type": "stream",
     "text": [
      "Downloading: \"https://github.com/CarDS-Yale/PanEcho/zipball/main\" to /Users/shromannmajumder/.cache/torch/hub/main.zip\n"
     ]
    }
   ],
   "source": [
    "import torch\n",
    "import tqdm as notebook_tqdm\n",
    "\n",
    "\n",
    "# Import PanEcho\n",
    "model = torch.hub.load('CarDS-Yale/PanEcho', 'PanEcho', force_reload=True)"
   ]
  },
  {
   "cell_type": "code",
   "execution_count": 7,
   "id": "d1639422",
   "metadata": {},
   "outputs": [
    {
     "data": {
      "text/plain": [
       "{'pericardial-effusion': tensor([[0.0174]], grad_fn=<RsubBackward1>),\n",
       " 'EF': tensor([[50.2192]], grad_fn=<AddmmBackward0>),\n",
       " 'GLS': tensor([[14.2449]], grad_fn=<AddmmBackward0>),\n",
       " 'LVEDV': tensor([[183.0992]], grad_fn=<AddmmBackward0>),\n",
       " 'LVESV': tensor([[86.6049]], grad_fn=<AddmmBackward0>),\n",
       " 'LVSV': tensor([[93.0997]], grad_fn=<AddmmBackward0>),\n",
       " 'LVSize': tensor([[0.2949, 0.2499, 0.4552]], grad_fn=<SoftmaxBackward0>),\n",
       " 'LVWallThickness-increased-any': tensor([[0.7536]], grad_fn=<RsubBackward1>),\n",
       " 'LVWallThickness-increased-modsev': tensor([[0.2134]], grad_fn=<RsubBackward1>),\n",
       " 'LVSystolicFunction': tensor([[0.2072, 0.0652, 0.7276]], grad_fn=<SoftmaxBackward0>),\n",
       " 'LVWallMotionAbnormalities': tensor([[0.4463]], grad_fn=<SigmoidBackward0>),\n",
       " 'IVSd': tensor([[1.2018]], grad_fn=<AddmmBackward0>),\n",
       " 'LVPWd': tensor([[1.1144]], grad_fn=<AddmmBackward0>),\n",
       " 'LVIDs': tensor([[3.5307]], grad_fn=<AddmmBackward0>),\n",
       " 'LVIDd': tensor([[4.9775]], grad_fn=<AddmmBackward0>),\n",
       " 'LVOTDiam': tensor([[2.0964]], grad_fn=<AddmmBackward0>),\n",
       " 'LVDiastolicFunction': tensor([[0.3950, 0.4919, 0.1131]], grad_fn=<SoftmaxBackward0>),\n",
       " 'E|EAvg': tensor([[18.7801]], grad_fn=<AddmmBackward0>),\n",
       " 'RVSP': tensor([[34.9262]], grad_fn=<AddmmBackward0>),\n",
       " 'RVSize': tensor([[0.1137, 0.0426, 0.8437]], grad_fn=<SoftmaxBackward0>),\n",
       " 'RVSystolicFunction': tensor([[0.2407]], grad_fn=<RsubBackward1>),\n",
       " 'RVIDd': tensor([[3.2849]], grad_fn=<AddmmBackward0>),\n",
       " 'TAPSE': tensor([[1.8804]], grad_fn=<AddmmBackward0>),\n",
       " 'RVSVel': tensor([[9.1605]], grad_fn=<AddmmBackward0>),\n",
       " 'LASize': tensor([[0.2453, 0.1770, 0.5777]], grad_fn=<SoftmaxBackward0>),\n",
       " 'LAIDs2D': tensor([[4.5258]], grad_fn=<AddmmBackward0>),\n",
       " 'LAVol': tensor([[58.8650]], grad_fn=<AddmmBackward0>),\n",
       " 'RASize': tensor([[0.1780]], grad_fn=<RsubBackward1>),\n",
       " 'RADimensionM-L(cm)': tensor([[4.0235]], grad_fn=<AddmmBackward0>),\n",
       " 'AVStructure': tensor([[0.0008]], grad_fn=<RsubBackward1>),\n",
       " 'AVStenosis': tensor([[0.0801, 0.9117, 0.0082]], grad_fn=<SoftmaxBackward0>),\n",
       " 'AVPkVel(m|s)': tensor([[1.7849]], grad_fn=<AddmmBackward0>),\n",
       " 'AVRegurg': tensor([[0.3111, 0.1096, 0.5793]], grad_fn=<SoftmaxBackward0>),\n",
       " 'LVOT20mmHg': tensor([[0.0002]], grad_fn=<SigmoidBackward0>),\n",
       " 'MVStenosis': tensor([[0.1028]], grad_fn=<RsubBackward1>),\n",
       " 'MVRegurgitation': tensor([[0.4628, 0.3757, 0.1614]], grad_fn=<SoftmaxBackward0>),\n",
       " 'TVRegurgitation': tensor([[0.5069, 0.2380, 0.2551]], grad_fn=<SoftmaxBackward0>),\n",
       " 'TVPkGrad': tensor([[29.5477]], grad_fn=<AddmmBackward0>),\n",
       " 'RAP-8-or-higher': tensor([[0.2143]], grad_fn=<SigmoidBackward0>),\n",
       " 'AORoot': tensor([[3.3629]], grad_fn=<AddmmBackward0>)}"
      ]
     },
     "execution_count": 7,
     "metadata": {},
     "output_type": "execute_result"
    }
   ],
   "source": [
    "x = torch.rand(1, 3, 16, 224, 224)\n",
    "\n",
    "result = model(x)\n",
    "result"
   ]
  },
  {
   "cell_type": "code",
   "execution_count": null,
   "id": "848e40c8",
   "metadata": {},
   "outputs": [],
   "source": [
    "\n"
   ]
  }
 ],
 "metadata": {
  "kernelspec": {
   "display_name": ".venv",
   "language": "python",
   "name": "python3"
  },
  "language_info": {
   "codemirror_mode": {
    "name": "ipython",
    "version": 3
   },
   "file_extension": ".py",
   "mimetype": "text/x-python",
   "name": "python",
   "nbconvert_exporter": "python",
   "pygments_lexer": "ipython3",
   "version": "3.12.10"
  }
 },
 "nbformat": 4,
 "nbformat_minor": 5
}
